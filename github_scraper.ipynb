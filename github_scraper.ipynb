{
 "cells": [
  {
   "cell_type": "code",
   "execution_count": null,
   "metadata": {},
   "outputs": [],
   "source": [
    "import os\n",
    "import pandas as pd\n",
    "import github_scraper as gs\n",
    "saved_searches = os.listdir(\"./saved_searches\")\n",
    "filename = saved_searches[0]\n",
    "\n",
    "code_extensions_coulmn_name_dict = {\n",
    "    '.py': 'Python',\n",
    "    '.r': 'R',\n",
    "    '.java': 'Java',\n",
    "    '.js': 'JavaScript',\n",
    "    '.go': 'Go',\n",
    "    '.c': 'C',\n",
    "    '.cpp': 'C++',\n",
    "    '.cs': 'C#',\n",
    "}\n",
    "code_extensions = '.py', '.r', '.java', '.js', '.go', '.c', '.cpp', '.cs'\n",
    "filepath = f'./saved_searches/{filename}'\n",
    "df = pd.read_csv(filepath)\n",
    "g = gs.authenticate()\n",
    "i = 0\n"
   ]
  },
  {
   "cell_type": "code",
   "execution_count": null,
   "metadata": {},
   "outputs": [],
   "source": [
    "i=0\n",
    "for row in df.iterrows():\n",
    "    repo_name = row[1]['name']\n",
    "    repo_owner = row[1]['owner']\n",
    "    repo = f\"{repo_owner}/{repo_name}\"\n",
    "    print(i, repo)\n",
    "    contents = gs.get_repo_contents(g, repo)\n",
    "    for code_ext in code_extensions:\n",
    "        col_name = code_extensions_coulmn_name_dict[code_ext]\n",
    "        code_contents = gs.filter_code_files(contents, code_extensions=(code_ext,))\n",
    "        code_files_dict = {}\n",
    "        for code_file in code_contents:\n",
    "            raw_content = gs.get_code_contents(code_file)\n",
    "            code_filename = code_file.name\n",
    "            code_files_dict[code_filename] = raw_content\n",
    "        df.at[i, col_name] = str(code_files_dict)\n",
    "    i += 1\n",
    "    if i == 4:\n",
    "        break"
   ]
  },
  {
   "cell_type": "code",
   "execution_count": null,
   "metadata": {},
   "outputs": [],
   "source": [
    "contents"
   ]
  },
  {
   "cell_type": "code",
   "execution_count": null,
   "metadata": {},
   "outputs": [],
   "source": [
    "i = 0\n",
    "for c in  contents:\n",
    "    print(i, c.name)\n",
    "    i += 1"
   ]
  },
  {
   "cell_type": "code",
   "execution_count": null,
   "metadata": {},
   "outputs": [],
   "source": [
    "contents[8].type"
   ]
  },
  {
   "cell_type": "code",
   "execution_count": null,
   "metadata": {},
   "outputs": [],
   "source": [
    "repo"
   ]
  },
  {
   "cell_type": "code",
   "execution_count": null,
   "metadata": {},
   "outputs": [],
   "source": [
    "contents[9].path, contents[9].type"
   ]
  },
  {
   "cell_type": "code",
   "execution_count": null,
   "metadata": {},
   "outputs": [],
   "source": [
    "repo.get_contents(contents[9].path)"
   ]
  },
  {
   "cell_type": "code",
   "execution_count": null,
   "metadata": {},
   "outputs": [],
   "source": [
    "contents.extend()"
   ]
  },
  {
   "cell_type": "code",
   "execution_count": null,
   "metadata": {},
   "outputs": [],
   "source": [
    "df.head()"
   ]
  },
  {
   "cell_type": "code",
   "execution_count": null,
   "metadata": {},
   "outputs": [],
   "source": []
  }
 ],
 "metadata": {
  "kernelspec": {
   "display_name": "amazon",
   "language": "python",
   "name": "python3"
  },
  "language_info": {
   "codemirror_mode": {
    "name": "ipython",
    "version": 3
   },
   "file_extension": ".py",
   "mimetype": "text/x-python",
   "name": "python",
   "nbconvert_exporter": "python",
   "pygments_lexer": "ipython3",
   "version": "3.9.16"
  }
 },
 "nbformat": 4,
 "nbformat_minor": 2
}
