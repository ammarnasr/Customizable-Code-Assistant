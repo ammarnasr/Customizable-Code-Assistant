{
 "cells": [
  {
   "cell_type": "code",
   "execution_count": null,
   "metadata": {},
   "outputs": [],
   "source": [
    "import os\n",
    "import pandas as pd\n",
    "import github_scraper as gs\n",
    "saved_searches = os.listdir(\"./saved_searches\")\n",
    "filename = saved_searches[0]\n",
    "\n",
    "code_extensions_coulmn_name_dict = {\n",
    "    '.py': 'Python',\n",
    "    '.r': 'R',\n",
    "    '.java': 'Java',\n",
    "    '.js': 'JavaScript',\n",
    "    '.go': 'Go',\n",
    "    '.c': 'C',\n",
    "    '.cpp': 'C++',\n",
    "    '.cs': 'C#',\n",
    "}\n",
    "code_extensions = '.py', '.r', '.java', '.js', '.go', '.c', '.cpp', '.cs'\n",
    "filepath = f'./saved_searches/{filename}'\n",
    "df = pd.read_csv(filepath)\n",
    "g = gs.authenticate()\n",
    "i = 0\n"
   ]
  },
  {
   "cell_type": "code",
   "execution_count": null,
   "metadata": {},
   "outputs": [],
   "source": [
    "i=0\n",
    "for row in df.iterrows():\n",
    "    repo_name = row[1]['name']\n",
    "    repo_owner = row[1]['owner']\n",
    "    repo = f\"{repo_owner}/{repo_name}\"\n",
    "    print(i, repo)\n",
    "    contents = gs.get_repo_contents(g, repo)\n",
    "    for code_ext in code_extensions:\n",
    "        col_name = code_extensions_coulmn_name_dict[code_ext]\n",
    "        code_contents = gs.filter_code_files(contents, code_extensions=(code_ext,))\n",
    "        code_files_dict = {}\n",
    "        for code_file in code_contents:\n",
    "            raw_content = gs.get_code_contents(code_file)\n",
    "            code_filename = code_file.name\n",
    "            code_files_dict[code_filename] = raw_content\n",
    "        df.at[i, col_name] = str(code_files_dict)\n",
    "    i += 1\n",
    "    if i == 4:\n",
    "        break"
   ]
  },
  {
   "cell_type": "code",
   "execution_count": null,
   "metadata": {},
   "outputs": [],
   "source": [
    "contents"
   ]
  },
  {
   "cell_type": "code",
   "execution_count": null,
   "metadata": {},
   "outputs": [],
   "source": [
    "i = 0\n",
    "for c in  contents:\n",
    "    print(i, c.name)\n",
    "    i += 1"
   ]
  },
  {
   "cell_type": "code",
   "execution_count": null,
   "metadata": {},
   "outputs": [],
   "source": [
    "contents[8].type"
   ]
  },
  {
   "cell_type": "code",
   "execution_count": null,
   "metadata": {},
   "outputs": [],
   "source": [
    "repo"
   ]
  },
  {
   "cell_type": "code",
   "execution_count": null,
   "metadata": {},
   "outputs": [],
   "source": [
    "contents[9].path, contents[9].type"
   ]
  },
  {
   "cell_type": "code",
   "execution_count": null,
   "metadata": {},
   "outputs": [],
   "source": [
    "repo.get_contents(contents[9].path)"
   ]
  },
  {
   "cell_type": "code",
   "execution_count": null,
   "metadata": {},
   "outputs": [],
   "source": [
    "contents.extend()"
   ]
  },
  {
   "cell_type": "code",
   "execution_count": null,
   "metadata": {},
   "outputs": [],
   "source": [
    "df.head()"
   ]
  },
  {
   "cell_type": "code",
   "execution_count": 1,
   "metadata": {},
   "outputs": [
    {
     "data": {
      "text/plain": [
       "[1, 2, 3]"
      ]
     },
     "execution_count": 1,
     "metadata": {},
     "output_type": "execute_result"
    }
   ],
   "source": [
    "eval ('[1,2,3]')"
   ]
  },
  {
   "cell_type": "code",
   "execution_count": 14,
   "metadata": {},
   "outputs": [
    {
     "data": {
      "image/png": "[encoded data removed]",
      "text/plain": [
       "<Figure size 800x100 with 1 Axes>"
      ]
     },
     "metadata": {},
     "output_type": "display_data"
    }
   ],
   "source": [
    "import pandas as pd\n",
    "import matplotlib.pyplot as plt\n",
    "\n",
    "# Sample DataFrame\n",
    "data = {'Status': ['accepted', 'pending', 'rejected', 'accepted', 'accepted']}\n",
    "df = pd.DataFrame(data)\n",
    "\n",
    "# Count the occurrences of each status\n",
    "status_counts = df['Status'].value_counts()\n",
    "\n",
    "# Create a bar plot\n",
    "fig, ax = plt.subplots(figsize=(8, 1))\n",
    "colors = ['green', 'yellow', 'red']\n",
    "labels = ['accepted', 'pending', 'rejected']\n",
    "\n",
    "# Create a bar segment for each status\n",
    "for i, (status, count) in enumerate(status_counts.items()):\n",
    "    ax.barh(0, count, left=status_counts[:i].sum(), color=colors[i], label=status)\n",
    "\n",
    "# Customize the plot\n",
    "ax.set_xticks([0])\n",
    "ax.set_xticklabels(['Status'])\n",
    "ax.set_xlabel('Status')\n",
    "ax.set_ylabel('Count')\n",
    "\n",
    "#Add legend to the right of the plot\n",
    "ax.legend(ncol=3, bbox_to_anchor=(0, 1),\n",
    "          loc='lower left', fontsize='small')\n",
    "\n",
    "# Show the plot\n",
    "plt.show()\n"
   ]
  },
  {
   "cell_type": "code",
   "execution_count": 3,
   "metadata": {},
   "outputs": [
    {
     "data": {
      "image/png": "[encoded data removed]",
      "text/plain": [
       "<Figure size 640x480 with 1 Axes>"
      ]
     },
     "metadata": {},
     "output_type": "display_data"
    }
   ],
   "source": [
    "import pandas as pd\n",
    "import matplotlib.pyplot as plt\n",
    "\n",
    "# Sample DataFrame\n",
    "data = {'Status': ['accepted', 'pending', 'rejected', 'accepted', 'accepted']}\n",
    "df = pd.DataFrame(data)\n",
    "\n",
    "# Count the occurrences of each status\n",
    "status_counts = df['Status'].value_counts()\n",
    "\n",
    "# Create a horizontal bar plot with flipped axes\n",
    "fig, ax = plt.subplots()\n",
    "\n",
    "# Create a bar segment for each status\n",
    "colors = ['green', 'yellow', 'red']\n",
    "labels = ['accepted', 'pending', 'rejected']\n",
    "for i, (status, count) in enumerate(status_counts.items()):\n",
    "    ax.barh(status, count, color=colors[i], label=status)\n",
    "\n",
    "# Customize the plot\n",
    "ax.set_yticks(status_counts.index)\n",
    "ax.set_xlabel('Count')\n",
    "ax.set_ylabel('Status')\n",
    "ax.legend(loc='upper right')\n",
    "\n",
    "# Show the plot\n",
    "plt.show()\n"
   ]
  },
  {
   "cell_type": "code",
   "execution_count": 7,
   "metadata": {},
   "outputs": [
    {
     "data": {
      "image/png": "[encoded data removed]",
      "text/plain": [
       "<Figure size 640x480 with 1 Axes>"
      ]
     },
     "metadata": {},
     "output_type": "display_data"
    }
   ],
   "source": [
    "import pandas as pd\n",
    "import matplotlib.pyplot as plt\n",
    "\n",
    "# Sample DataFrame\n",
    "data = {'Status': ['accepted', 'pending', 'rejected', 'accepted', 'accepted']}\n",
    "df = pd.DataFrame(data)\n",
    "\n",
    "# Count the occurrences of each status\n",
    "status_counts = df['Status'].value_counts()\n",
    "\n",
    "# Create a stacked bar plot\n",
    "fig, ax = plt.subplots()\n",
    "\n",
    "# Extract the data for plotting\n",
    "categories = status_counts.index\n",
    "counts = status_counts.values\n",
    "\n",
    "# Create a single bar with stacked segments\n",
    "colors = ['green', 'yellow', 'red']\n",
    "ax.bar(0, counts[0], color=colors[0], label=categories[0])\n",
    "for i in range(1, len(categories)):\n",
    "    ax.bar(0, counts[i], color=colors[i], label=categories[i], bottom=sum(counts[:i]), orientation='horizontal')\n",
    "\n",
    "# Customize the plot\n",
    "ax.set_xticks([0])\n",
    "ax.set_xticklabels(['Status'])\n",
    "ax.set_xlabel('Status')\n",
    "ax.set_ylabel('Count')\n",
    "ax.legend(loc='upper right')\n",
    "\n",
    "\n",
    "# Show the plot\n",
    "plt.show()\n"
   ]
  },
  {
   "cell_type": "code",
   "execution_count": null,
   "metadata": {},
   "outputs": [],
   "source": []
  }
 ],
 "metadata": {
  "kernelspec": {
   "display_name": "amazon",
   "language": "python",
   "name": "python3"
  },
  "language_info": {
   "codemirror_mode": {
    "name": "ipython",
    "version": 3
   },
   "file_extension": ".py",
   "mimetype": "text/x-python",
   "name": "python",
   "nbconvert_exporter": "python",
   "pygments_lexer": "ipython3",
   "version": "3.9.16"
  }
 },
 "nbformat": 4,
 "nbformat_minor": 2
}
